{
 "cells": [
  {
   "cell_type": "markdown",
   "id": "292df355-9004-4a1e-8fc1-7b66abe2734f",
   "metadata": {},
   "source": [
    "<h1>SELECTION SORT</h1>\n"
   ]
  },
  {
   "cell_type": "markdown",
   "id": "19388f85-59fe-4838-b458-0488cba36b08",
   "metadata": {},
   "source": [
    "<h3>ALGORITHM</h3>"
   ]
  },
  {
   "cell_type": "code",
   "execution_count": null,
   "id": "3940e1dc-78d1-42fd-9c12-3fccfd9ae6ff",
   "metadata": {},
   "outputs": [],
   "source": [
    "STEP 1: Start the program\n",
    "STEP 2: Create a first (Outer) for loop to run through all elements of array\n",
    "STEP 3: Second for loop to compare the smallest element in the unsorted portion of the array\n",
    "STEP 4: It swaps that element with the first element of the unsorted portion.\n",
    "STEP 5: This process repeats for each element until the entire array is sorted.\n",
    "STEP 6: Stop the program\n"
   ]
  },
  {
   "cell_type": "markdown",
   "id": "ca4a533b-aaeb-4753-82a4-9b1b8ba06a09",
   "metadata": {},
   "source": [
    "<h3>CODE</h3>"
   ]
  },
  {
   "cell_type": "code",
   "execution_count": 6,
   "id": "5b8504a2-440e-47e5-a108-c8bd643f8026",
   "metadata": {},
   "outputs": [
    {
     "name": "stdout",
     "output_type": "stream",
     "text": [
      "Sorted array [2, 4, 5, 5, 54, 224, 244]\n"
     ]
    }
   ],
   "source": [
    "def selectionsort(arr):\n",
    "    for i in range(len(arr)):\n",
    "        minval = arr[i]\n",
    "        minj = i\n",
    "        for j in range(i+1, len(arr)):\n",
    "            if arr[j] < minval:\n",
    "                minj = j\n",
    "                minval = arr[j]\n",
    "        arr[i], arr[minj] = arr[minj], arr[i]  # Swapping\n",
    "\n",
    "arr = [54, 5, 244, 2, 4, 5, 224]\n",
    "selectionsort(arr)\n",
    "print(\"Sorted array\",arr)"
   ]
  },
  {
   "cell_type": "markdown",
   "id": "5f01edfe-5107-422c-869b-1dff5890ee02",
   "metadata": {},
   "source": [
    "<h3>FEATURES</h3>\n"
   ]
  },
  {
   "cell_type": "markdown",
   "id": "c474108d-d311-4d5a-8f54-fc26533e2619",
   "metadata": {},
   "source": [
    "<h5>>>TIME COMPLEXITY: O(n^2) </h5>"
   ]
  },
  {
   "cell_type": "markdown",
   "id": "1b197cb6-1c64-416e-a6bf-bbbe21628386",
   "metadata": {},
   "source": [
    "<h5>>>IN-PLACE SORTING ALGORITHM </h5>"
   ]
  },
  {
   "cell_type": "markdown",
   "id": "b83c534d-c2b0-41e1-93f6-c6972c87145c",
   "metadata": {},
   "source": [
    "<h5> >>AUXILIARY SPACE : PRESENT </h5>"
   ]
  },
  {
   "cell_type": "markdown",
   "id": "ba1f2b66-2a30-4162-9fdd-61f0eb54c416",
   "metadata": {},
   "source": [
    "<h5>>>UNSTABLE SORTING ALGORITHM </h5>"
   ]
  }
 ],
 "metadata": {
  "kernelspec": {
   "display_name": "Python 3 (ipykernel)",
   "language": "python",
   "name": "python3"
  },
  "language_info": {
   "codemirror_mode": {
    "name": "ipython",
    "version": 3
   },
   "file_extension": ".py",
   "mimetype": "text/x-python",
   "name": "python",
   "nbconvert_exporter": "python",
   "pygments_lexer": "ipython3",
   "version": "3.12.4"
  }
 },
 "nbformat": 4,
 "nbformat_minor": 5
}
