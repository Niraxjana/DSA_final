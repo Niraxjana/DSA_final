{
 "cells": [
  {
   "cell_type": "markdown",
   "id": "53a37c9c-eef6-47cf-8fe8-41223f8dc5da",
   "metadata": {},
   "source": [
    "<h1>｡˚○BUBBLE SORT｡˚○</h1>"
   ]
  },
  {
   "cell_type": "markdown",
   "id": "50a1b0ca-7a85-4eff-952b-6f8e01c8f90a",
   "metadata": {},
   "source": [
    "<h3>ALGORITHM</h3>"
   ]
  },
  {
   "cell_type": "raw",
   "id": "60212f95-4f73-4479-90ea-fa61c6281572",
   "metadata": {},
   "source": [
    "STEP 1: Start the program\n",
    "STEP 2: Create a first (Outer) for loop to run through all elements of array\n",
    "STEP 3: Second for loop to compare arr[j] and arr[j+1]\n",
    "STEP 4: If arr[j] is greater than arr[j+1] then SWAP both the elements\n",
    "STEP 5: Repeat the process for remaining unsorted list\n",
    "STEP 6: Stop the program\n"
   ]
  },
  {
   "cell_type": "markdown",
   "id": "3acfe5c8-5bfb-46ea-989f-2304b3aead3a",
   "metadata": {},
   "source": [
    "<h3>CODE</h3>"
   ]
  },
  {
   "cell_type": "code",
   "execution_count": 2,
   "id": "dba84319-d4f4-4757-ab0f-2c938f9748e3",
   "metadata": {},
   "outputs": [
    {
     "name": "stdout",
     "output_type": "stream",
     "text": [
      "Sorted array: [-6, 4, 14, 23, 45, 51, 96]\n"
     ]
    }
   ],
   "source": [
    "def bubsort(arr):\n",
    "    for i in range(len(arr)):\n",
    "        for j in range(0,len(arr)-1):\n",
    "            if arr[j+1]<arr[j]:\n",
    "                arr[j], arr[j+1] = arr[j+1], arr[j]\n",
    "            \n",
    "arr = [45,96,23,51,14,-6,4]\n",
    "bubsort(arr)\n",
    "print(\"Sorted array:\", arr)"
   ]
  },
  {
   "cell_type": "markdown",
   "id": "4e252f5b-8972-49b5-a439-9371f15f7be9",
   "metadata": {},
   "source": [
    "<h3>CHARACTERISTICS</h3>\n"
   ]
  },
  {
   "cell_type": "markdown",
   "id": "bf276d8c-5dcf-43c5-b592-620754201666",
   "metadata": {},
   "source": [
    "<h5>>>TIME COMPLEXITY: O(n^2) </h5>\n"
   ]
  },
  {
   "cell_type": "markdown",
   "id": "aa724087-d829-4135-a480-af6da8f8fc17",
   "metadata": {},
   "source": [
    "<h5>>>IN-PLACE SORTING ALGORITHM </h5>"
   ]
  },
  {
   "cell_type": "markdown",
   "id": "bf77f255-caef-4c56-b80a-cbd6ba98581e",
   "metadata": {},
   "source": [
    "<h5> >>AUXILIARY SPACE : ABSENT </h5>"
   ]
  },
  {
   "cell_type": "markdown",
   "id": "4f9f2313-a73f-4bff-baa8-5a5ba293a4aa",
   "metadata": {},
   "source": [
    "<h5>>>STABLE SORTING ALGORITHM </h5>"
   ]
  }
 ],
 "metadata": {
  "kernelspec": {
   "display_name": "Python 3 (ipykernel)",
   "language": "python",
   "name": "python3"
  },
  "language_info": {
   "codemirror_mode": {
    "name": "ipython",
    "version": 3
   },
   "file_extension": ".py",
   "mimetype": "text/x-python",
   "name": "python",
   "nbconvert_exporter": "python",
   "pygments_lexer": "ipython3",
   "version": "3.12.4"
  }
 },
 "nbformat": 4,
 "nbformat_minor": 5
}
