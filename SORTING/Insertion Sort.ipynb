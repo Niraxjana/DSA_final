{
 "cells": [
  {
   "cell_type": "markdown",
   "id": "88e4f24e-febc-4104-96c3-f73f1b0a8385",
   "metadata": {},
   "source": [
    "<h1>INSERTION SORT</h1>"
   ]
  },
  {
   "cell_type": "markdown",
   "id": "1cd336fc-a51f-4700-9810-e1342370b64c",
   "metadata": {},
   "source": [
    "<h3>\n",
    "    ALGORITHM\n",
    "</h3>"
   ]
  },
  {
   "cell_type": "raw",
   "id": "8e2f5ef1-b695-43b8-bac5-1badb984994e",
   "metadata": {},
   "source": [
    "STEP 1: Start the program\n",
    "STEP 2: Assume the first element is already sorted\n",
    "STEP 3: Store the current element(Key). \n",
    "STEP 4: Compare key with element in sorted portion.\n",
    "STEP 5: Insert key in its correct position.\n",
    "STEP 6: This process repeats for each element until the entire array is sorted.\n",
    "STEP 7: Stop the program\n"
   ]
  },
  {
   "cell_type": "markdown",
   "id": "a32f41da-1f9b-425c-af27-1891c427d963",
   "metadata": {},
   "source": [
    "<h3>CODE</h3>"
   ]
  },
  {
   "cell_type": "code",
   "execution_count": 6,
   "id": "6d5cf6c9-f600-4bff-9fd5-e703a570d535",
   "metadata": {},
   "outputs": [
    {
     "name": "stdout",
     "output_type": "stream",
     "text": [
      "sorted array [12, 15, 28, 32, 36, 45, 45, 47, 74, 89, 96]\n"
     ]
    }
   ],
   "source": [
    "def InsertionSort(arr):\n",
    "    for i in range(1,len(arr)):\n",
    "        key = arr[i]\n",
    "        j = i -1\n",
    "        while j>=0 and arr[j] > key:\n",
    "            arr[j+1] = arr[j]\n",
    "            j = j-1\n",
    "        arr[j+1] = key\n",
    "arr=[45,32,89,47,12,74,36,96,15,28,45]\n",
    "InsertionSort(arr)\n",
    "print(\"sorted array\",arr)    \n",
    "    "
   ]
  },
  {
   "cell_type": "markdown",
   "id": "b7357993-3692-47eb-b97e-0586cba58240",
   "metadata": {},
   "source": [
    "<h3>CHARACTERISTICS</h3>\n"
   ]
  },
  {
   "cell_type": "markdown",
   "id": "8e0105d6-cc3f-4572-9370-0f4464619db5",
   "metadata": {},
   "source": [
    "<h5>>>TIME COMPLEXITY: O(n^2) </h5>"
   ]
  },
  {
   "cell_type": "markdown",
   "id": "1cfec335-4be7-4818-b14a-4149b65e169d",
   "metadata": {},
   "source": [
    "<h5>>>IN-PLACE SORTING ALGORITHM </h5>"
   ]
  },
  {
   "cell_type": "markdown",
   "id": "7f6cece5-1818-45bb-9800-55eae25730a9",
   "metadata": {},
   "source": [
    "<h5> >>AUXILIARY SPACE : ABSENT </h5>"
   ]
  },
  {
   "cell_type": "markdown",
   "id": "4b37bc6c-07c8-4717-a0ec-04fd1545c90f",
   "metadata": {},
   "source": [
    "<h5>>>STABLE SORTING ALGORITHM </h5>"
   ]
  },
  {
   "cell_type": "code",
   "execution_count": null,
   "id": "afd5ba9b-3a33-442c-b664-b7efab6cc8a1",
   "metadata": {},
   "outputs": [],
   "source": []
  }
 ],
 "metadata": {
  "kernelspec": {
   "display_name": "Python 3 (ipykernel)",
   "language": "python",
   "name": "python3"
  },
  "language_info": {
   "codemirror_mode": {
    "name": "ipython",
    "version": 3
   },
   "file_extension": ".py",
   "mimetype": "text/x-python",
   "name": "python",
   "nbconvert_exporter": "python",
   "pygments_lexer": "ipython3",
   "version": "3.12.4"
  }
 },
 "nbformat": 4,
 "nbformat_minor": 5
}
