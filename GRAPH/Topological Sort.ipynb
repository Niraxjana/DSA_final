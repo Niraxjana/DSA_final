{
 "cells": [
  {
   "cell_type": "markdown",
   "id": "52c55e34-c364-43c1-94f9-709ec189da08",
   "metadata": {},
   "source": [
    "<h1>Program</h1>"
   ]
  },
  {
   "cell_type": "code",
   "execution_count": 4,
   "id": "ce08e084-6fbb-4dbb-b4de-8430f1dd4f77",
   "metadata": {},
   "outputs": [
    {
     "name": "stdout",
     "output_type": "stream",
     "text": [
      "Topological Sort: ['A', 'C', 'B', 'D', 'E']\n"
     ]
    }
   ],
   "source": [
    "# Topological Sorting using DFS\n",
    "\n",
    "# Sample graph as adjacency list (Directed Acyclic Graph)\n",
    "graph = {\n",
    "    'A': ['B', 'C'],\n",
    "    'B': ['D'],\n",
    "    'C': ['D'],\n",
    "    'D': ['E'],\n",
    "    'E': []\n",
    "}\n",
    "\n",
    "visited = set()  # Track visited nodes\n",
    "topological_order = []  # Store topological order\n",
    "\n",
    "def topological_sort_dfs(graph, node):\n",
    "    # Mark node as visited\n",
    "    visited.add(node)\n",
    "\n",
    "    # Recursively call DFS on its neighbors\n",
    "    for neighbor in graph[node]:\n",
    "        if neighbor not in visited:\n",
    "            topological_sort_dfs(graph, neighbor)\n",
    "    topological_order.append(node)\n",
    "\n",
    "# Perform DFS on each node in the graph\n",
    "for node in graph:\n",
    "    if node not in visited:\n",
    "        topological_sort_dfs(graph, node)\n",
    "\n",
    "# The topological order will be in reverse, so reverse it\n",
    "topological_order.reverse()\n",
    "\n",
    "# Print the topological order\n",
    "print(\"Topological Sort:\", topological_order)\n",
    "\n"
   ]
  },
  {
   "cell_type": "code",
   "execution_count": null,
   "id": "845101c5-b078-4dcf-85b9-72ccbb1f3d6b",
   "metadata": {},
   "outputs": [],
   "source": []
  }
 ],
 "metadata": {
  "kernelspec": {
   "display_name": "Python 3 (ipykernel)",
   "language": "python",
   "name": "python3"
  },
  "language_info": {
   "codemirror_mode": {
    "name": "ipython",
    "version": 3
   },
   "file_extension": ".py",
   "mimetype": "text/x-python",
   "name": "python",
   "nbconvert_exporter": "python",
   "pygments_lexer": "ipython3",
   "version": "3.12.4"
  }
 },
 "nbformat": 4,
 "nbformat_minor": 5
}
