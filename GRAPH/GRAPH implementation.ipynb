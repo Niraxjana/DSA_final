{
 "cells": [
  {
   "cell_type": "markdown",
   "id": "6d75581e-dc37-495f-b4d1-c249fe92fa13",
   "metadata": {},
   "source": [
    "<h1>GRAPH IMPLEMENTATION</h1>"
   ]
  },
  {
   "cell_type": "markdown",
   "id": "1e1543dc-a567-4c43-bca8-b9dae75041de",
   "metadata": {},
   "source": [
    "<h2>PROGRAM</h2>"
   ]
  },
  {
   "cell_type": "code",
   "execution_count": 1,
   "id": "c80d27c6-0dea-4a38-8168-df8a3a9668d2",
   "metadata": {},
   "outputs": [
    {
     "name": "stdout",
     "output_type": "stream",
     "text": [
      "A => ['C', 'D']\n",
      "C => ['A', 'B']\n",
      "H => []\n",
      "B => ['C']\n",
      "D => ['A']\n"
     ]
    }
   ],
   "source": [
    "class Graph:\n",
    "    def __init__(self):\n",
    "        self.graph={}\n",
    "        self.directed= False\n",
    "    def add_vertex(self, vertex):\n",
    "        if vertex not in self.graph:\n",
    "            self.graph[vertex]= []\n",
    "    def add_edge(self,src,dst):\n",
    "        self.add_vertex(src)\n",
    "        self.add_vertex(dst)\n",
    "        self.graph[src].append(dst)\n",
    "\n",
    "        if not self.directed:\n",
    "            self.graph[dst].append(src)\n",
    "            \n",
    "    def displayG(self):\n",
    "        for vertex in self.graph:\n",
    "            print(f\"{vertex} => {self.graph[vertex]}\")\n",
    "G=Graph()\n",
    "G.add_edge('A','C')\n",
    "G.add_vertex('H')\n",
    "G.add_edge('B','C')\n",
    "G.add_edge('A','D')\n",
    "\n",
    "\n",
    "G.displayG()"
   ]
  },
  {
   "cell_type": "code",
   "execution_count": null,
   "id": "b0c63e3b-d341-407c-900c-c37af67f511d",
   "metadata": {},
   "outputs": [],
   "source": []
  }
 ],
 "metadata": {
  "kernelspec": {
   "display_name": "Python 3 (ipykernel)",
   "language": "python",
   "name": "python3"
  },
  "language_info": {
   "codemirror_mode": {
    "name": "ipython",
    "version": 3
   },
   "file_extension": ".py",
   "mimetype": "text/x-python",
   "name": "python",
   "nbconvert_exporter": "python",
   "pygments_lexer": "ipython3",
   "version": "3.12.4"
  }
 },
 "nbformat": 4,
 "nbformat_minor": 5
}
