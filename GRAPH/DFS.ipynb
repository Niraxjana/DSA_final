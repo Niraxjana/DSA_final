{
 "cells": [
  {
   "cell_type": "markdown",
   "id": "df263409-3cf0-4424-b007-b28a40d9ee3c",
   "metadata": {},
   "source": [
    "<h1>Depth-first Search</h1>"
   ]
  },
  {
   "cell_type": "markdown",
   "id": "634aece9-00b7-4445-9fa9-af0ad88a300e",
   "metadata": {},
   "source": [
    "<h2>Program</h2>"
   ]
  },
  {
   "cell_type": "code",
   "execution_count": 2,
   "id": "c2472d7a-fd66-4af7-9d6b-9b72dcde205c",
   "metadata": {},
   "outputs": [
    {
     "name": "stdout",
     "output_type": "stream",
     "text": [
      "Following is the Depth-First Search:\n",
      "5 3 2 4 8 7 "
     ]
    }
   ],
   "source": [
    "graph = {\n",
    "  '5' : ['3','7'],\n",
    "  '3' : ['2', '4'],\n",
    "  '7' : ['8'],\n",
    "  '2' : [],\n",
    "  '4' : ['8'],\n",
    "  '8' : []\n",
    "}\n",
    "\n",
    "visited = set()  # Set to keep track of visited nodes of graph.\n",
    "\n",
    "def dfs(visited, graph, node):  # function for dfs \n",
    "    if node not in visited:\n",
    "        print(node, end=\" \")  # Print on the same line\n",
    "        visited.add(node)\n",
    "        for neighbour in graph[node]:\n",
    "            dfs(visited, graph, neighbour)\n",
    "\n",
    "# Driver Code\n",
    "print(\"Following is the Depth-First Search:\")\n",
    "dfs(visited, graph, '5')\n"
   ]
  },
  {
   "cell_type": "code",
   "execution_count": null,
   "id": "969a1142-d211-44de-a5c9-5adaf4dc0f03",
   "metadata": {},
   "outputs": [],
   "source": []
  }
 ],
 "metadata": {
  "kernelspec": {
   "display_name": "Python 3 (ipykernel)",
   "language": "python",
   "name": "python3"
  },
  "language_info": {
   "codemirror_mode": {
    "name": "ipython",
    "version": 3
   },
   "file_extension": ".py",
   "mimetype": "text/x-python",
   "name": "python",
   "nbconvert_exporter": "python",
   "pygments_lexer": "ipython3",
   "version": "3.12.4"
  }
 },
 "nbformat": 4,
 "nbformat_minor": 5
}
